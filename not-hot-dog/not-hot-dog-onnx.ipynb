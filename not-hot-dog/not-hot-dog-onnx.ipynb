{
 "cells": [
  {
   "cell_type": "code",
   "execution_count": 1,
   "id": "37733e79-9573-4b68-a1a9-a7ecb898b7ff",
   "metadata": {},
   "outputs": [],
   "source": [
    "import numpy as np\n",
    "import onnxruntime as rt\n",
    "from PIL import Image"
   ]
  },
  {
   "cell_type": "code",
   "execution_count": 2,
   "id": "993003fb-5014-4720-97e4-59975f6fd721",
   "metadata": {},
   "outputs": [],
   "source": [
    "labels = ['hot_dog', 'not_hot_dog']"
   ]
  },
  {
   "cell_type": "code",
   "execution_count": 3,
   "id": "f29830fb-d61f-4f13-9e62-c28391414449",
   "metadata": {},
   "outputs": [],
   "source": [
    "def transform_image_onnx(path, size): \n",
    "    image = Image.open(path)\n",
    "    image = image.resize((size, size))\n",
    "    # This returns a shape of (384, 384, 3) \n",
    "    image = np.array(image)\n",
    "    # Convert it to (3, 384, 384)\n",
    "    image = image.transpose(2, 0, 1).astype(np.float32)\n",
    "    # Add batch dimension (1, 3, 384, 384)\n",
    "    image = np.expand_dims(image, axis=0)\n",
    "    # Convert values from 0-255 to 0-1 range\n",
    "    image /= 255\n",
    "    return image"
   ]
  },
  {
   "cell_type": "code",
   "execution_count": 4,
   "id": "cb2b6d00-e145-4620-9048-ec2e06546164",
   "metadata": {},
   "outputs": [
    {
     "data": {
      "text/plain": [
       "(1, 3, 384, 384)"
      ]
     },
     "execution_count": 4,
     "metadata": {},
     "output_type": "execute_result"
    }
   ],
   "source": [
    "hot_dog_tensor_onnx = transform_image_onnx('hot_dog_1.jpg', 384)\n",
    "not_hot_dog_tensor_onnx = transform_image_onnx('not_hot_dog_1.jpg', 384)\n",
    "hot_dog_tensor_onnx.shape"
   ]
  },
  {
   "cell_type": "code",
   "execution_count": 5,
   "id": "fc43ff0a-5984-4883-b963-835ed76303e3",
   "metadata": {},
   "outputs": [],
   "source": [
    "sess = rt.InferenceSession('not-hot-dog.onnx')"
   ]
  },
  {
   "cell_type": "code",
   "execution_count": 6,
   "id": "fcdc0760-157f-4b9f-9a21-1c17c9af67b8",
   "metadata": {},
   "outputs": [
    {
     "data": {
      "text/plain": [
       "'image_1_3_384_384'"
      ]
     },
     "execution_count": 6,
     "metadata": {},
     "output_type": "execute_result"
    }
   ],
   "source": [
    "sess.get_inputs()[0].name"
   ]
  },
  {
   "cell_type": "code",
   "execution_count": 7,
   "id": "f6eb17ee-468e-4920-b944-2d41683b22f0",
   "metadata": {},
   "outputs": [
    {
     "data": {
      "text/plain": [
       "('image_1_3_384_384', [1, 3, 384, 384], 'hot_dog', [1, 2])"
      ]
     },
     "execution_count": 7,
     "metadata": {},
     "output_type": "execute_result"
    }
   ],
   "source": [
    "input_name = sess.get_inputs()[0].name\n",
    "output_name = sess.get_outputs()[0].name\n",
    "input_dims = sess.get_inputs()[0].shape\n",
    "output_dims = sess.get_outputs()[0].shape\n",
    "input_name, input_dims, output_name, output_dims"
   ]
  },
  {
   "cell_type": "code",
   "execution_count": 8,
   "id": "663bac38-3f34-48d8-8d1d-f6ce8418b765",
   "metadata": {},
   "outputs": [
    {
     "data": {
      "text/plain": [
       "('not_hot_dog',\n",
       " array([[0.2517277 , 0.74827236]], dtype=float32),\n",
       " ['hot_dog', 'not_hot_dog'])"
      ]
     },
     "execution_count": 8,
     "metadata": {},
     "output_type": "execute_result"
    }
   ],
   "source": [
    "results = sess.run([output_name], {input_name: hot_dog_tensor_onnx})[0]\n",
    "labels[np.argmax(results)], results, labels"
   ]
  },
  {
   "cell_type": "code",
   "execution_count": 9,
   "id": "9979e6fa-361a-4c24-be57-30c28c460454",
   "metadata": {},
   "outputs": [
    {
     "data": {
      "text/plain": [
       "('not_hot_dog',\n",
       " array([[0.38771978, 0.6122802 ]], dtype=float32),\n",
       " ['hot_dog', 'not_hot_dog'])"
      ]
     },
     "execution_count": 9,
     "metadata": {},
     "output_type": "execute_result"
    }
   ],
   "source": [
    "results = sess.run([output_name], {input_name: not_hot_dog_tensor_onnx})[0]\n",
    "labels[np.argmax(results)], results, labels"
   ]
  },
  {
   "cell_type": "code",
   "execution_count": null,
   "id": "41d5f78a-3023-42df-b8ac-16a269963f61",
   "metadata": {},
   "outputs": [],
   "source": []
  }
 ],
 "metadata": {
  "kernelspec": {
   "display_name": "Python 3 (ipykernel)",
   "language": "python",
   "name": "python3"
  },
  "language_info": {
   "codemirror_mode": {
    "name": "ipython",
    "version": 3
   },
   "file_extension": ".py",
   "mimetype": "text/x-python",
   "name": "python",
   "nbconvert_exporter": "python",
   "pygments_lexer": "ipython3",
   "version": "3.11.7"
  }
 },
 "nbformat": 4,
 "nbformat_minor": 5
}
